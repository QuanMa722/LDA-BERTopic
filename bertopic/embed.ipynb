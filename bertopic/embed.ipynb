{
 "cells": [
  {
   "cell_type": "code",
   "id": "initial_id",
   "metadata": {
    "collapsed": true,
    "ExecuteTime": {
     "end_time": "2024-05-23T09:25:44.706546Z",
     "start_time": "2024-05-23T09:25:44.703339Z"
    }
   },
   "source": [
    "from sentence_transformers import SentenceTransformer\n",
    "import numpy as np\n",
    "import warnings\n",
    "\n",
    "warnings.filterwarnings(\"ignore\")"
   ],
   "outputs": [],
   "execution_count": 2
  },
  {
   "metadata": {
    "ExecuteTime": {
     "end_time": "2024-05-23T09:25:47.287506Z",
     "start_time": "2024-05-23T09:25:47.274485Z"
    }
   },
   "cell_type": "code",
   "source": [
    "with open(file=\"../data/lda2.txt\", mode=\"r\", encoding=\"utf-8\") as f:\n",
    "    comment_dict_list: list = f.readlines()\n",
    "comment_list: list = []\n",
    "for item in comment_dict_list:\n",
    "    comment_list.append(eval(item)[\"评论内容\"])"
   ],
   "id": "db1f83fca306d7d9",
   "outputs": [],
   "execution_count": 3
  },
  {
   "metadata": {
    "ExecuteTime": {
     "end_time": "2024-05-23T09:25:49.605679Z",
     "start_time": "2024-05-23T09:25:49.599341Z"
    }
   },
   "cell_type": "code",
   "source": "comment_list[:10]",
   "id": "28dac582c06dcfd6",
   "outputs": [
    {
     "data": {
      "text/plain": [
       "['这里程表会显示多少码呢',\n",
       " '我怀疑它移动那点距离都是后面的交警推的',\n",
       " '本来就打滑还给大油  ',\n",
       " '现在在下冰雹，就是不下雪',\n",
       " '我们在新疆都是雪地胎',\n",
       " '请问路上好走吗',\n",
       " '公司开空调，家里开暖气，舍得花钱就冻不着我',\n",
       " '这警察也太死板了吧，都不知道推一把？',\n",
       " '还想可以啊能慢慢往前走……结果交警在后面推',\n",
       " '湖北真好，免赔贴车衣，这车衣不错！']"
      ]
     },
     "execution_count": 4,
     "metadata": {},
     "output_type": "execute_result"
    }
   ],
   "execution_count": 4
  },
  {
   "metadata": {
    "ExecuteTime": {
     "end_time": "2024-05-23T09:26:42.845866Z",
     "start_time": "2024-05-23T09:26:30.000319Z"
    }
   },
   "cell_type": "code",
   "source": [
    "embedding_model = SentenceTransformer(\n",
    "    \"thenlper/gte-base-zh\"\n",
    "   # \"thenlper/gte-large-zh\"\n",
    "   # \"thenlper/gte-small-zh\"\n",
    "   # \"paraphrase-multilingual-MiniLM-L12-v2\"\n",
    "\n",
    ")\n",
    "embeddings = embedding_model.encode(comment_list, show_progress_bar=True)\n",
    "print(type(embeddings), embeddings.shape)"
   ],
   "id": "1eb8960bcdc86ba6",
   "outputs": [
    {
     "data": {
      "text/plain": [
       "Batches:   0%|          | 0/18 [00:00<?, ?it/s]"
      ],
      "application/vnd.jupyter.widget-view+json": {
       "version_major": 2,
       "version_minor": 0,
       "model_id": "5d53a15cbe294a6bbb9a6b7f986c45e7"
      }
     },
     "metadata": {},
     "output_type": "display_data"
    },
    {
     "name": "stdout",
     "output_type": "stream",
     "text": [
      "<class 'numpy.ndarray'> (556, 768)\n"
     ]
    }
   ],
   "execution_count": 6
  },
  {
   "metadata": {
    "ExecuteTime": {
     "end_time": "2024-05-23T09:26:45.152868Z",
     "start_time": "2024-05-23T09:26:45.147853Z"
    }
   },
   "cell_type": "code",
   "source": [
    "np.save('embedding.npy', embeddings)\n",
    "print('embedding.npy')"
   ],
   "id": "13949fa5964bcb5b",
   "outputs": [
    {
     "name": "stdout",
     "output_type": "stream",
     "text": [
      "embedding.npy\n"
     ]
    }
   ],
   "execution_count": 7
  },
  {
   "metadata": {},
   "cell_type": "code",
   "outputs": [],
   "execution_count": null,
   "source": "",
   "id": "5f573218e4b647d3"
  }
 ],
 "metadata": {
  "kernelspec": {
   "display_name": "Python 3",
   "language": "python",
   "name": "python3"
  },
  "language_info": {
   "codemirror_mode": {
    "name": "ipython",
    "version": 2
   },
   "file_extension": ".py",
   "mimetype": "text/x-python",
   "name": "python",
   "nbconvert_exporter": "python",
   "pygments_lexer": "ipython2",
   "version": "2.7.6"
  }
 },
 "nbformat": 4,
 "nbformat_minor": 5
}
